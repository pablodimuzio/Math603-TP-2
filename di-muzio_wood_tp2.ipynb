{
 "cells": [
  {
   "cell_type": "code",
   "execution_count": 52,
   "id": "4e0cccab-b115-4292-8bfa-dd4f49d15622",
   "metadata": {},
   "outputs": [],
   "source": [
    "%display latex\n",
    "import numpy as np"
   ]
  },
  {
   "cell_type": "markdown",
   "id": "f2ca07a3-86a2-4adb-be82-40c7f73d6e8b",
   "metadata": {},
   "source": [
    "Autheurs: WOOD Archie, DI MUZIO Pablo\n",
    "# TP 2 Math603"
   ]
  },
  {
   "cell_type": "markdown",
   "id": "2a11ae61-eabf-4886-8dc1-43138f87963f",
   "metadata": {},
   "source": [
    "## Partie 1"
   ]
  },
  {
   "cell_type": "markdown",
   "id": "f5a9f50c-1cfe-4bea-8e7a-3f772a7e987a",
   "metadata": {},
   "source": [
    "### Exercice 1:"
   ]
  },
  {
   "cell_type": "markdown",
   "id": "c2f96960-8b81-4bd7-9805-92fb71a4d786",
   "metadata": {},
   "source": [
    "1. On souhaite calculer à tout instant $t$ la valeure de $r(t)$.\n",
    "On connait $r(0) \\in \\mathbb R_+$. On peut calculer l'épaisseur de papier $S(t)$ déjà utilisée. On a\n",
    "$$S(t) = \\int_0^t \\varepsilon v(\\tau)d\\tau = \\pi r(0)^2 - \\pi r(t)^2 \\implies r(t) = \\sqrt{r(0)^2 - \\dfrac{\\varepsilon}{\\pi}\\int_0^tv(\\tau)d\\tau}$$"
   ]
  },
  {
   "cell_type": "markdown",
   "id": "a73d9c8d-8f6d-4b24-be7b-225ada8884ca",
   "metadata": {},
   "source": [
    "2. Soit $v_c$ la lecture actuelle de la vitesse du rouleau.\n",
    "On peut déduire de l'égalité précédente une approximation de $r(t)$ par la suite récurrente\n",
    "$$\n",
    "\\begin{array}{lllr}\n",
    "r_0&:=&r(0)&\\\\\n",
    "r_{n+1}&:=& \\sqrt{r_n^2-\\dfrac{\\varepsilon \\Delta t}{\\pi}v_c},&n \\in [\\![0,n-1]\\!]\n",
    "\\end{array}\n",
    "$$\n"
   ]
  },
  {
   "cell_type": "markdown",
   "id": "742ded1a-3c03-4197-9de7-e1debf56ac5e",
   "metadata": {},
   "source": [
    "3. On souhaite savoir quel $\\Delta t$ prendre afin de ne pas surcharger le processeur. En même temps on ne peut pas juste choisir un $\\Delta t$ quelconque car les erreurs d'approximation sont répercutées sur toutes la suite et donc, avoir une trop grande incertitude rendrait l'approximation caduque.\n",
    "\n",
    "On peut dors et déjà économiser de la puissance de calculs en ne stockant que la suite des $(r_n^2)$, en effet cela nous permet de ne pas avoir à calculer la racine carrée à chaque opération et de toute façon notre récurrence remet au carré le terme précédent.\n",
    "$$\n",
    "\\begin{cases}\n",
    "r_0&:=&r(0)&\\\\\n",
    "r_{n+1}^2&:=& {r_n^2-\\dfrac{\\varepsilon \\Delta t}{\\pi}v_c}\n",
    "\\end{cases}\n",
    "$$\n",
    "\n",
    "Encore une fois on peut cacher la valeur de notre produit de constantes: $\\rho := -\\dfrac{\\varepsilon \\times \\Delta t}{\\pi}$\n",
    "\n",
    "$$\n",
    "\\begin{cases}\n",
    "r_0&:=&r(0)&\\\\\n",
    "r_{n+1}^2&:=& {r_n^2+\\rho v_c}\n",
    "\\end{cases}\n",
    "$$\n",
    "\n",
    "On en déduit donc que le cout en cycles de création d'un élément de notre suite se décompose comme suit:\n",
    "+ 3 lectures: il faut lire $r_n^2$, $\\rho$ et $v_c$\n",
    "+ 1 multiplications: $\\rho$ multiplier avec $v_c$\n",
    "+ 1 addition: sommer les deux constantes obtenues\n",
    "+ 1 écriture: sauvegarder la valeur de $r_{n+1}$\n",
    "\n",
    "Soit donc $3\\times2+2\\times4+2=16$ opérations entre chaque intervalle d'échantillonage.\n",
    "Dans le cas où notre controlleur est ralenti par une quelconque tache et tourne donc à 500 MHz, il aurait pour valeur d'échantillonage minimale $31.25\\cdot 10^{-6}s$.\n",
    "On serait donc à l'aise avec une pulling rate de $30\\cdot 10^{-6}s$ par sécurité.\n"
   ]
  },
  {
   "cell_type": "markdown",
   "id": "19903340-7041-4e1a-abc9-c858f00feb66",
   "metadata": {},
   "source": [
    "### Exercice 2:"
   ]
  },
  {
   "cell_type": "markdown",
   "id": "55e36ded-aa48-48fe-b4a7-1492ab694a30",
   "metadata": {},
   "source": [
    "1. On déduit de la question 1.1 que\n",
    "\n",
    "$$\n",
    "\\begin{array}{lll}\n",
    "r(t)& = &\\sqrt{r(0)^2 - \\dfrac{\\varepsilon}{\\pi}\\int_0^tv(\\tau)d\\tau} \\\\\n",
    "\\dfrac{\\partial r}{\\partial t} & = & \\dfrac{\\dfrac{\\varepsilon}{\\pi}v}{2\\sqrt{r(0)^2 - \\dfrac{\\varepsilon}{\\pi}\\int_0^tv(\\tau)d\\tau}} \\\\\n",
    "\\dfrac{\\partial r}{\\partial t} & = & -\\dfrac{\\varepsilon v}{2\\pi r}\n",
    "\\end{array}\n",
    "$$"
   ]
  },
  {
   "cell_type": "markdown",
   "id": "c9e38f97-349e-4e0b-9aa1-41859d0394a8",
   "metadata": {},
   "source": [
    "2. On construit un solveur d'Euler pour cette équation.\n",
    "\n",
    "On a le problème de cauchy suivant\n",
    "$$\n",
    "\\begin{cases}\n",
    "\\dfrac{\\partial r}{\\partial t} & = & - \\dfrac{\\varepsilon v}{2\\pi r} \\\\\n",
    "r(0) & = & r_0\n",
    "\\end{cases}\n",
    "$$\n",
    "On pose\n",
    "$$\n",
    "\\begin{array}{}\n",
    "T& \\in & \\mathbb R_+^* \\\\\n",
    "N& \\in & \\mathbb N^* \\\\\n",
    "I & = & [0,T] \\\\\n",
    "h &=& \\dfrac{T}{N} \\\\\n",
    "(t_n)_{n\\in \\mathbb N} & \\text{tq.} & t_n = nh & \\forall n \\in \\mathbb N \\\\\n",
    "\\varphi &=& -\\dfrac{\\varepsilon v_c}{2\\pi}\n",
    "\\end{array}\n",
    "$$\n",
    "On a alors l'approximation de la solution du problème de Cauchy $(\\hat{y_n})_{0 \\leqslant n \\leqslant N}$ avec\n",
    "$$\n",
    "\\begin{cases}\n",
    "\\hat y_0 &=& y_0\\\\\n",
    "\\hat y_{n+1} &=& \\hat y_n + \\dfrac{\\varphi}{\\hat y_n}\n",
    "\\end{cases}\n",
    "$$"
   ]
  },
  {
   "cell_type": "markdown",
   "id": "a47d4083-1273-4143-8e96-2ad00339d4b8",
   "metadata": {},
   "source": [
    "comptabilisant ainsi 33 opérations par calculs.\n",
    "\n",
    "On en déduit que l'intervalle minimum d'échantillonage est de $15.15\\cdot 10^{-6}s$, on arrondi en dessous par sécurité: $15\\cdot 10^{-6}s$ "
   ]
  },
  {
   "cell_type": "markdown",
   "id": "567220ac-659f-467c-82e4-c208612cb312",
   "metadata": {},
   "source": [
    "4. Grace aux optimisations misent en place lors de l'exercice 1, cette méthode seraient moins efficace que $(\\star)$ (à condition de se satisfaire des carrés dans le cas de l'exercice 1)"
   ]
  },
  {
   "cell_type": "markdown",
   "id": "7f1fc7f1-a023-44f1-9527-da68bee72ddc",
   "metadata": {},
   "source": [
    "5. On construit un solveur du système posé au dessus."
   ]
  },
  {
   "cell_type": "code",
   "execution_count": 200,
   "id": "08a9d365-5942-409e-be95-d2ac73a48eb3",
   "metadata": {},
   "outputs": [
    {
     "data": {
      "image/png": "[encoded data removed]",
      "text/plain": [
       "Graphics object consisting of 1 graphics primitive"
      ]
     },
     "execution_count": 200,
     "metadata": {},
     "output_type": "execute_result"
    }
   ],
   "source": [
    "# Solver Euler pour dr/dt = -epsilon * v(t) / (2π r(t))\n",
    "\n",
    "def euler_solver(v, epsilon, r0, T, dt):\n",
    "    times = [0]\n",
    "    values = [r0]\n",
    "    \n",
    "    r = r0\n",
    "    t = 0\n",
    "    while t < T:\n",
    "        dr_dt = n(- (epsilon * v(t)) / (2 * pi * r))\n",
    "        r = n(r + dt * dr_dt)\n",
    "        t = n(t + dt)\n",
    "        times.append(t)\n",
    "        values.append(r)\n",
    "    return zip(times, values)\n",
    "\n",
    "# Supposons, par exemple, que la vitesse est  sinusoidale:\n",
    "def v_sinusoidale(t):\n",
    "    return (10 + 9*sin(t))\n",
    "def v_lin(t):\n",
    "    return 5*t\n",
    "\n",
    "# Paramètres:\n",
    "epsilon = 0.001\n",
    "r0 = 0.5\n",
    "T = 70\n",
    "dt = 0.01\n",
    "\n",
    "sol_euler = list(euler_solver(v_sinusoidale, epsilon, r0, T, dt))\n",
    "#Traçons la solution:\n",
    "list_plot(sol_euler, plotjoined=True, color='green',axes_labels=[\"t\", \"r(t)\"])"
   ]
  },
  {
   "cell_type": "markdown",
   "id": "3c66668d-560e-4336-b9de-66044346d995",
   "metadata": {},
   "source": [
    "## Partie 2"
   ]
  },
  {
   "cell_type": "markdown",
   "id": "e39b3161-284c-48a9-b14b-0838db54fb26",
   "metadata": {},
   "source": [
    "### Exercice 3:"
   ]
  },
  {
   "cell_type": "markdown",
   "id": "30875fcb-9419-482a-af7b-ec126cb0201a",
   "metadata": {},
   "source": [
    "1. On remarque qu'un tableau de butcher peut être vu comme une matrice réelle.\n",
    "On encode donc un tableau de Butcher\n",
    "$$\n",
    "\\begin{array}{c|ccc}\n",
    "c_1 & a_{1,1} & \\cdots & a_{1,n} \\\\\n",
    "\\vdots & \\vdots & \\ddots & \\vdots\\\\\n",
    "c_n & a_{n,1} & \\cdots & a_{n,n} \\\\\n",
    "\\hline\n",
    "& b_1 & \\cdots & b_n \\\\\n",
    "\\end{array} \n",
    "$$\n",
    "comme la matrice $B_u \\in M_{n+1}(\\mathbb R)$, où\n",
    "$$\n",
    "A = \\left(\\begin{array}{c|ccc}\n",
    "c_1 & a_{1,1} & \\cdots & a_{1,n} \\\\\n",
    "\\vdots & \\vdots & \\ddots & \\vdots\\\\\n",
    "c_n & a_{n,1} & \\cdots & a_{n,n} \\\\\n",
    "\\hline\n",
    "0& b_1 & \\cdots & b_n \\\\\n",
    "\\end{array} \\right)\n",
    "$$"
   ]
  },
  {
   "cell_type": "markdown",
   "id": "c5aa6c92-3b02-452f-8575-f04b6f92ab0e",
   "metadata": {},
   "source": [
    "2. Pour vérifier si il un tableau de butcher $A = (a_{i,j})_{i,j \\in [\\![1,} $ est consistant, il faut que l'égalité $\\forall i = 2, \\cdots, n; \\sum_{k=2}^{n+1} a_{i,k}=a_{i,1}$. On peut donc simplement écrire le script suivant pour vérifier si un tableau de Butcher est consistant."
   ]
  },
  {
   "cell_type": "code",
   "execution_count": 201,
   "id": "56904dc3-492a-4871-9604-10ccb6e6f23d",
   "metadata": {},
   "outputs": [],
   "source": [
    "def rk_consistence(bA):\n",
    "    bool_ret = True\n",
    "    for i in range(len(A[0]) - 1):\n",
    "        bool_ret = bool_ret * sum(A[i][1:]) == A[i][0]\n",
    "    return bool_ret"
   ]
  },
  {
   "cell_type": "markdown",
   "id": "bf2ed1ad-cf17-4565-b7ae-807370de827e",
   "metadata": {},
   "source": [
    "On teste notre code avec l'exemple du Runge-Katta d'ordre 4 donné sur wikipédia:"
   ]
  },
  {
   "cell_type": "code",
   "execution_count": 202,
   "id": "dab329c0-3314-43cc-93ce-457933126670",
   "metadata": {},
   "outputs": [
    {
     "data": {
      "text/html": [
       "<html><script type=\"math/tex; mode=display\">\\newcommand{\\Bold}[1]{\\mathbf{#1}}\\left(\\begin{array}{rrrrr}\n",
       "0 & 0 & 0 & 0 & 0 \\\\\n",
       "\\frac{1}{2} & \\frac{1}{2} & 0 & 0 & 0 \\\\\n",
       "\\frac{1}{2} & 0 & \\frac{1}{2} & 0 & 0 \\\\\n",
       "1 & 0 & 0 & 1 & 0 \\\\\n",
       "0 & \\frac{1}{6} & \\frac{1}{3} & \\frac{1}{3} & \\frac{1}{6}\n",
       "\\end{array}\\right)</script></html>"
      ],
      "text/latex": [
       "$$\\newcommand{\\Bold}[1]{\\mathbf{#1}}\\left(\\begin{array}{rrrrr}\n",
       "0 & 0 & 0 & 0 & 0 \\\\\n",
       "\\frac{1}{2} & \\frac{1}{2} & 0 & 0 & 0 \\\\\n",
       "\\frac{1}{2} & 0 & \\frac{1}{2} & 0 & 0 \\\\\n",
       "1 & 0 & 0 & 1 & 0 \\\\\n",
       "0 & \\frac{1}{6} & \\frac{1}{3} & \\frac{1}{3} & \\frac{1}{6}\n",
       "\\end{array}\\right)$$"
      ],
      "text/plain": [
       "[  0   0   0   0   0]\n",
       "[1/2 1/2   0   0   0]\n",
       "[1/2   0 1/2   0   0]\n",
       "[  1   0   0   1   0]\n",
       "[  0 1/6 1/3 1/3 1/6]"
      ]
     },
     "execution_count": 202,
     "metadata": {},
     "output_type": "execute_result"
    }
   ],
   "source": [
    "rk4 = Matrix([\n",
    "    [0,0,0,0,0],\n",
    "    [1/2,1/2,0,0,0],\n",
    "    [1/2,0,1/2,0,0],\n",
    "    [1,0,0,1,0],\n",
    "    [0,1/6,1/3,1/3,1/6]\n",
    "])\n",
    "rk4"
   ]
  },
  {
   "cell_type": "code",
   "execution_count": 203,
   "id": "daff228b-d7fd-4194-8a98-6002ad6a459a",
   "metadata": {},
   "outputs": [
    {
     "data": {
      "text/html": [
       "<html><script type=\"math/tex; mode=display\">\\newcommand{\\Bold}[1]{\\mathbf{#1}}\\verb|True|</script></html>"
      ],
      "text/latex": [
       "$$\\newcommand{\\Bold}[1]{\\mathbf{#1}}\\verb|True|$$"
      ],
      "text/plain": [
       "True"
      ]
     },
     "execution_count": 203,
     "metadata": {},
     "output_type": "execute_result"
    }
   ],
   "source": [
    "rk_consistence(rk4)"
   ]
  },
  {
   "cell_type": "markdown",
   "id": "67131a4b-5245-4fd1-8b48-bce902660280",
   "metadata": {},
   "source": [
    "On souhaite désormais implémenter un solveur d'équation sous la base des algorithmes RK."
   ]
  },
  {
   "cell_type": "code",
   "execution_count": 204,
   "id": "0e332ef2-4781-4bbb-b868-c384c0398082",
   "metadata": {},
   "outputs": [
    {
     "data": {
      "image/png": "[encoded data removed]",
      "text/plain": [
       "Graphics object consisting of 1 graphics primitive"
      ]
     },
     "execution_count": 204,
     "metadata": {},
     "output_type": "execute_result"
    }
   ],
   "source": [
    "f(t,y) = -epsilon*(v_sinusoidale(t))/(2*pi*y)\n",
    "\n",
    "def solv_rk(t0, t1, h, Butch, f, y0):\n",
    "    D = Butch.numpy()\n",
    "    c = D[:-1, 0]\n",
    "    b = D[-1, 1:]\n",
    "    A = D[:-1, 1:]\n",
    "    \n",
    "    s = b.size\n",
    "\n",
    "    t = t0\n",
    "    y = y0\n",
    "    solution = [(t, y)]\n",
    "\n",
    "    while t < t1:\n",
    "        k = [y0*0] * s\n",
    "\n",
    "        for i in range(s):\n",
    "            ti = t + c[i] * h\n",
    "            yi = y + h * sum(A[i][j] * k[j] for j in range(i))\n",
    "            k[i] = n(f(ti, yi))\n",
    "\n",
    "        y += h * sum(b[i] * k[i] for i in range(s))\n",
    "        t += h\n",
    "        solution.append((t, y))\n",
    "\n",
    "    return solution\n",
    "\n",
    "sol_rk = list(solv_rk(0,70,0.1,rk4,f, 0.50))\n",
    "\n",
    "list_plot(sol_rk, plotjoined=True, color='blue',axes_labels=[\"t\", \"r(t)\"])"
   ]
  },
  {
   "cell_type": "markdown",
   "id": "fad2a58c-dea3-4f28-a1af-343640efcca7",
   "metadata": {},
   "source": [
    "### Exercice 4:"
   ]
  },
  {
   "cell_type": "markdown",
   "id": "3579c7fe-b198-4274-b889-752d4f9a3db7",
   "metadata": {},
   "source": [
    "On souhaite modéliser une invasion zombie à l'aide de notre nouveau plotter et solveur:\n",
    "\n",
    "- $h$ representant le nombre d'humains\n",
    "- $z$ representant le nombre de zombies\n",
    "- $e$ representant le nombre de décès\n",
    "\n",
    "à l'instant $t$. Les éliminé.e.s sont\n",
    "\n",
    "- les zombies morts \n",
    "- les humains morts du fait des zombies (potentiellements reconvertis en zombies)\n",
    "- les humains morts d'une mort autre que celle dues aux zombies\n",
    "\n",
    "Le système modélisant cette dynamique est le suivant:\n",
    "$$\n",
    "h' = \\Gamma - \\iota h z - \\delta h \\\\\n",
    "z' = \\iota h z + \\zeta e - \\epsilon h z \\\\\n",
    "e' = \\delta h + \\epsilon h z -\\zeta e\n",
    "$$\n",
    "\n",
    "où\n",
    "\n",
    "- $\\Gamma$ est le taux des naissances des humains (supposé constant)\n",
    "- $\\delta$ est le taux de mortalité naturel.\n",
    "- $\\zeta$ est le taux de zombification."
   ]
  },
  {
   "cell_type": "code",
   "execution_count": 205,
   "id": "c7df9adf-ec15-49a2-949d-84e2ec33e220",
   "metadata": {},
   "outputs": [],
   "source": [
    "h = function('h')(t)\n",
    "z = function('z')(t)\n",
    "e = function('e')(t)\n",
    "\n",
    "epsilon = 0.005\n",
    "iota = 0.0095\n",
    "delta = 0.0001\n",
    "zeta = 0.0001\n",
    "Gamma = 0.02"
   ]
  },
  {
   "cell_type": "markdown",
   "id": "f06c09ad-ddce-4263-9cb2-9c6e1f1b88b2",
   "metadata": {},
   "source": [
    "On fixe des variables arbitraires telles que les $h_0,z_0,e_0$ que l'on appelera plus tard et on définit notre fonction f:"
   ]
  },
  {
   "cell_type": "code",
   "execution_count": 214,
   "id": "209520cd-5608-4fe4-8009-1ca145d0c7e5",
   "metadata": {},
   "outputs": [],
   "source": [
    "u = function('u')(t)\n",
    "v = function('v')(t)\n",
    "w = function('w')(t)\n",
    "f(t,u,v,w) = Matrix([\n",
    "    [Gamma - iota*u*v - delta*u],\n",
    "    [iota*u*v + zeta*w - epsilon*u*v],\n",
    "    [delta*u+epsilon*u*v-zeta*w]\n",
    "])\n",
    "\n",
    "f_0 = Matrix([\n",
    "    [11],\n",
    "    [10],\n",
    "    [0]\n",
    "])"
   ]
  },
  {
   "cell_type": "code",
   "execution_count": 210,
   "id": "84db054b-343d-4725-bc53-2920c63a20bd",
   "metadata": {},
   "outputs": [
    {
     "ename": "TypeError",
     "evalue": "unsupported operand parent(s) for +: 'Full MatrixSpace of 3 by 1 dense matrices over Integer Ring' and 'Real Field with 53 bits of precision'",
     "output_type": "error",
     "traceback": [
      "\u001b[0;31m---------------------------------------------------------------------------\u001b[0m",
      "\u001b[0;31mTypeError\u001b[0m                                 Traceback (most recent call last)",
      "\u001b[0;32m/tmp/ipykernel_814438/4141506382.py\u001b[0m in \u001b[0;36m<module>\u001b[0;34m\u001b[0m\n\u001b[0;32m----> 1\u001b[0;31m \u001b[0msolv_rk\u001b[0m\u001b[0;34m(\u001b[0m\u001b[0mInteger\u001b[0m\u001b[0;34m(\u001b[0m\u001b[0;36m0\u001b[0m\u001b[0;34m)\u001b[0m\u001b[0;34m,\u001b[0m\u001b[0mInteger\u001b[0m\u001b[0;34m(\u001b[0m\u001b[0;36m30\u001b[0m\u001b[0;34m)\u001b[0m\u001b[0;34m,\u001b[0m\u001b[0mRealNumber\u001b[0m\u001b[0;34m(\u001b[0m\u001b[0;34m'0.1'\u001b[0m\u001b[0;34m)\u001b[0m\u001b[0;34m,\u001b[0m\u001b[0mrk4\u001b[0m\u001b[0;34m,\u001b[0m\u001b[0mf\u001b[0m\u001b[0;34m,\u001b[0m \u001b[0mf_0\u001b[0m\u001b[0;34m)\u001b[0m\u001b[0;34m\u001b[0m\u001b[0;34m\u001b[0m\u001b[0m\n\u001b[0m",
      "\u001b[0;32m/tmp/ipykernel_814438/1842808246.py\u001b[0m in \u001b[0;36msolv_rk\u001b[0;34m(t0, t1, h, Butch, f, y0)\u001b[0m\n\u001b[1;32m     18\u001b[0m         \u001b[0;32mfor\u001b[0m \u001b[0mi\u001b[0m \u001b[0;32min\u001b[0m \u001b[0mrange\u001b[0m\u001b[0;34m(\u001b[0m\u001b[0ms\u001b[0m\u001b[0;34m)\u001b[0m\u001b[0;34m:\u001b[0m\u001b[0;34m\u001b[0m\u001b[0;34m\u001b[0m\u001b[0m\n\u001b[1;32m     19\u001b[0m             \u001b[0mti\u001b[0m \u001b[0;34m=\u001b[0m \u001b[0mt\u001b[0m \u001b[0;34m+\u001b[0m \u001b[0mc\u001b[0m\u001b[0;34m[\u001b[0m\u001b[0mi\u001b[0m\u001b[0;34m]\u001b[0m \u001b[0;34m*\u001b[0m \u001b[0mh\u001b[0m\u001b[0;34m\u001b[0m\u001b[0;34m\u001b[0m\u001b[0m\n\u001b[0;32m---> 20\u001b[0;31m             \u001b[0myi\u001b[0m \u001b[0;34m=\u001b[0m \u001b[0my\u001b[0m \u001b[0;34m+\u001b[0m \u001b[0mh\u001b[0m \u001b[0;34m*\u001b[0m \u001b[0msum\u001b[0m\u001b[0;34m(\u001b[0m\u001b[0mA\u001b[0m\u001b[0;34m[\u001b[0m\u001b[0mi\u001b[0m\u001b[0;34m]\u001b[0m\u001b[0;34m[\u001b[0m\u001b[0mj\u001b[0m\u001b[0;34m]\u001b[0m \u001b[0;34m*\u001b[0m \u001b[0mk\u001b[0m\u001b[0;34m[\u001b[0m\u001b[0mj\u001b[0m\u001b[0;34m]\u001b[0m \u001b[0;32mfor\u001b[0m \u001b[0mj\u001b[0m \u001b[0;32min\u001b[0m \u001b[0mrange\u001b[0m\u001b[0;34m(\u001b[0m\u001b[0mi\u001b[0m\u001b[0;34m)\u001b[0m\u001b[0;34m)\u001b[0m\u001b[0;34m\u001b[0m\u001b[0;34m\u001b[0m\u001b[0m\n\u001b[0m\u001b[1;32m     21\u001b[0m             \u001b[0mk\u001b[0m\u001b[0;34m[\u001b[0m\u001b[0mi\u001b[0m\u001b[0;34m]\u001b[0m \u001b[0;34m=\u001b[0m \u001b[0mn\u001b[0m\u001b[0;34m(\u001b[0m\u001b[0mf\u001b[0m\u001b[0;34m(\u001b[0m\u001b[0mti\u001b[0m\u001b[0;34m,\u001b[0m \u001b[0myi\u001b[0m\u001b[0;34m)\u001b[0m\u001b[0;34m)\u001b[0m\u001b[0;34m\u001b[0m\u001b[0;34m\u001b[0m\u001b[0m\n\u001b[1;32m     22\u001b[0m \u001b[0;34m\u001b[0m\u001b[0m\n",
      "\u001b[0;32m/usr/lib/python3/dist-packages/sage/structure/element.pyx\u001b[0m in \u001b[0;36msage.structure.element.Element.__add__ (build/cythonized/sage/structure/element.c:11110)\u001b[0;34m()\u001b[0m\n\u001b[1;32m   1231\u001b[0m         \u001b[0;31m# Left and right are Sage elements => use coercion model\u001b[0m\u001b[0;34m\u001b[0m\u001b[0;34m\u001b[0m\u001b[0m\n\u001b[1;32m   1232\u001b[0m         \u001b[0;32mif\u001b[0m \u001b[0mBOTH_ARE_ELEMENT\u001b[0m\u001b[0;34m(\u001b[0m\u001b[0mcl\u001b[0m\u001b[0;34m)\u001b[0m\u001b[0;34m:\u001b[0m\u001b[0;34m\u001b[0m\u001b[0;34m\u001b[0m\u001b[0m\n\u001b[0;32m-> 1233\u001b[0;31m             \u001b[0;32mreturn\u001b[0m \u001b[0mcoercion_model\u001b[0m\u001b[0;34m.\u001b[0m\u001b[0mbin_op\u001b[0m\u001b[0;34m(\u001b[0m\u001b[0mleft\u001b[0m\u001b[0;34m,\u001b[0m \u001b[0mright\u001b[0m\u001b[0;34m,\u001b[0m \u001b[0madd\u001b[0m\u001b[0;34m)\u001b[0m\u001b[0;34m\u001b[0m\u001b[0;34m\u001b[0m\u001b[0m\n\u001b[0m\u001b[1;32m   1234\u001b[0m \u001b[0;34m\u001b[0m\u001b[0m\n\u001b[1;32m   1235\u001b[0m         \u001b[0mcdef\u001b[0m \u001b[0mlong\u001b[0m \u001b[0mvalue\u001b[0m\u001b[0;34m\u001b[0m\u001b[0;34m\u001b[0m\u001b[0m\n",
      "\u001b[0;32m/usr/lib/python3/dist-packages/sage/structure/coerce.pyx\u001b[0m in \u001b[0;36msage.structure.coerce.CoercionModel.bin_op (build/cythonized/sage/structure/coerce.c:11821)\u001b[0;34m()\u001b[0m\n\u001b[1;32m   1246\u001b[0m         \u001b[0;31m# We should really include the underlying error.\u001b[0m\u001b[0;34m\u001b[0m\u001b[0;34m\u001b[0m\u001b[0m\n\u001b[1;32m   1247\u001b[0m         \u001b[0;31m# This causes so much headache.\u001b[0m\u001b[0;34m\u001b[0m\u001b[0;34m\u001b[0m\u001b[0m\n\u001b[0;32m-> 1248\u001b[0;31m         \u001b[0;32mraise\u001b[0m \u001b[0mbin_op_exception\u001b[0m\u001b[0;34m(\u001b[0m\u001b[0mop\u001b[0m\u001b[0;34m,\u001b[0m \u001b[0mx\u001b[0m\u001b[0;34m,\u001b[0m \u001b[0my\u001b[0m\u001b[0;34m)\u001b[0m\u001b[0;34m\u001b[0m\u001b[0;34m\u001b[0m\u001b[0m\n\u001b[0m\u001b[1;32m   1249\u001b[0m \u001b[0;34m\u001b[0m\u001b[0m\n\u001b[1;32m   1250\u001b[0m     \u001b[0mcpdef\u001b[0m \u001b[0mcanonical_coercion\u001b[0m\u001b[0;34m(\u001b[0m\u001b[0mself\u001b[0m\u001b[0;34m,\u001b[0m \u001b[0mx\u001b[0m\u001b[0;34m,\u001b[0m \u001b[0my\u001b[0m\u001b[0;34m)\u001b[0m\u001b[0;34m:\u001b[0m\u001b[0;34m\u001b[0m\u001b[0;34m\u001b[0m\u001b[0m\n",
      "\u001b[0;31mTypeError\u001b[0m: unsupported operand parent(s) for +: 'Full MatrixSpace of 3 by 1 dense matrices over Integer Ring' and 'Real Field with 53 bits of precision'"
     ]
    }
   ],
   "source": [
    "def solv_rk4(t0, t1, h, f, y0):\n",
    "    D = rk4.numpy()\n",
    "    c = D[:-1, 0]\n",
    "    b = D[-1, 1:]\n",
    "    A = D[:-1, 1:]\n",
    "    \n",
    "    s = b.size\n",
    "\n",
    "    t = t0\n",
    "    y = y0\n",
    "    solution = [(t, y)]\n",
    "\n",
    "    while t < t1:\n",
    "        k = [y0*0] * s\n",
    "\n",
    "        for i in range(s):\n",
    "            ti = t + c[i] * h\n",
    "            yi = y + h * sum(A[i][j] * k[j] for j in range(i))\n",
    "            k[i] = n(f(ti, yi))\n",
    "\n",
    "        y += h * sum(b[i] * k[i] for i in range(s))\n",
    "        t += h\n",
    "        solution.append((t, y))\n",
    "\n",
    "    return solution\n",
    "\n",
    "sol_rk = list(solv_rk(0,70,0.1,rk4,f, 0.50))\n",
    "\n",
    "list_plot(sol_rk, plotjoined=True, color='blue',axes_labels=[\"t\", \"r(t)\"])"
   ]
  },
  {
   "cell_type": "code",
   "execution_count": 212,
   "id": "74363c02-1a1a-452d-a547-a2b418bedc2d",
   "metadata": {},
   "outputs": [
    {
     "data": {
      "text/html": [
       "<html><script type=\"math/tex; mode=display\">\\newcommand{\\Bold}[1]{\\mathbf{#1}}\\left(\\begin{array}{r}\n",
       "0 \\\\\n",
       "0 \\\\\n",
       "0\n",
       "\\end{array}\\right)</script></html>"
      ],
      "text/latex": [
       "$$\\newcommand{\\Bold}[1]{\\mathbf{#1}}\\left(\\begin{array}{r}\n",
       "0 \\\\\n",
       "0 \\\\\n",
       "0\n",
       "\\end{array}\\right)$$"
      ],
      "text/plain": [
       "[0]\n",
       "[0]\n",
       "[0]"
      ]
     },
     "execution_count": 212,
     "metadata": {},
     "output_type": "execute_result"
    }
   ],
   "source": [
    "f_0*0"
   ]
  },
  {
   "cell_type": "markdown",
   "id": "90d76088-d9b7-4e23-ad39-1e42a7fa228c",
   "metadata": {},
   "source": [
    "## Partie 3:"
   ]
  },
  {
   "cell_type": "markdown",
   "id": "1246e96f-5ea3-4ccd-9178-2ece4068fd7e",
   "metadata": {},
   "source": [
    "### Exercice 5:"
   ]
  },
  {
   "cell_type": "markdown",
   "id": "5a290647-a7a3-4e69-9b69-9360686e669a",
   "metadata": {},
   "source": [
    "On se place dans la situation du problème de Cauchy suivant\n",
    "$$\n",
    "\\begin{cases}\n",
    "y' & = & f(t,y) & = & t + y^2 \\\\\n",
    "y(0) & = & 1\n",
    "\\end{cases}\n",
    "$$\n",
    "et on cherche à calculer le $n$-ième coéfficient de Taylor à l'aide de la substitution symbolique de Sage.\n",
    "\n",
    "On met en place les variablees dont on aura besoin:"
   ]
  },
  {
   "cell_type": "code",
   "execution_count": 155,
   "id": "cd44495e-3904-4968-aa3a-80abd223b9e2",
   "metadata": {},
   "outputs": [],
   "source": [
    "t = var('t')\n",
    "y = function('y')(t)\n",
    "dy = diff(y,t)\n",
    "\n",
    "Q = PolynomialRing(QQ, 't')\n",
    "R = PolynomialRing(RR, 't')"
   ]
  },
  {
   "cell_type": "markdown",
   "id": "06bcd0d2-46ed-4b7f-9b1f-63a5b5c5e0bd",
   "metadata": {},
   "source": [
    "On construit la fonction devTaylor pour qu'elle soit la plus générale possible comme suit (ici nous assumons que la série est entièrement rationnelle mais dans le cas ou notre fonction serait moins coopérative que celle donnée par l'exercice, comme par exemple $f(t,y) = sin(y)+t$, on pourra décommenter le premier return de la fonction):"
   ]
  },
  {
   "cell_type": "code",
   "execution_count": 156,
   "id": "8742d98c-6816-4976-8578-3a0d424b42a0",
   "metadata": {},
   "outputs": [],
   "source": [
    "def devTaylorY(_t0, _y0, _f,  n):\n",
    "    f = _f\n",
    "    \n",
    "    val = [_y0]\n",
    "    \n",
    "    for k in range(1, n+1):\n",
    "        \n",
    "        val.append(f.subs({dy:_f}).subs({y:_y0}).subs({t:_t0}))\n",
    "        \n",
    "        f = diff(f,t).subs({dy:_f})\n",
    "    \n",
    "    P = sum(val[k]/factorial(k) * (t-_t0)**k for k in range(n+1))\n",
    "    \n",
    "    # return R(P)\n",
    "    \n",
    "    return Q(P)"
   ]
  },
  {
   "cell_type": "markdown",
   "id": "07bfaa4a-5cc9-4b3e-8ae8-19adeaf3cb9c",
   "metadata": {},
   "source": [
    "Enfin, on ouput le résulats de notre fonction pour une valeur de test, ici `n=3`"
   ]
  },
  {
   "cell_type": "code",
   "execution_count": 157,
   "id": "5a632620-4f7d-43d4-912f-a1cbf8b71a97",
   "metadata": {},
   "outputs": [
    {
     "data": {
      "text/html": [
       "<html><script type=\"math/tex; mode=display\">\\newcommand{\\Bold}[1]{\\mathbf{#1}}\\frac{4}{3} t^{3} + \\frac{3}{2} t^{2} + t + 1</script></html>"
      ],
      "text/latex": [
       "$$\\newcommand{\\Bold}[1]{\\mathbf{#1}}\\frac{4}{3} t^{3} + \\frac{3}{2} t^{2} + t + 1$$"
      ],
      "text/plain": [
       "4/3*t^3 + 3/2*t^2 + t + 1"
      ]
     },
     "execution_count": 157,
     "metadata": {},
     "output_type": "execute_result"
    }
   ],
   "source": [
    "devTaylorY(0,1, y**2+t,3)"
   ]
  },
  {
   "cell_type": "markdown",
   "id": "f27eaf14-775a-4268-8f7e-60f137d35057",
   "metadata": {},
   "source": [
    "On vérifie avec les résultas obtenus par le calcul et on s'assure que notre fonction est correcte."
   ]
  }
 ],
 "metadata": {
  "kernelspec": {
   "display_name": "SageMath 9.5",
   "language": "sage",
   "name": "sagemath"
  },
  "language_info": {
   "codemirror_mode": {
    "name": "ipython",
    "version": 3
   },
   "file_extension": ".py",
   "mimetype": "text/x-python",
   "name": "python",
   "nbconvert_exporter": "python",
   "pygments_lexer": "ipython3",
   "version": "3.10.12"
  }
 },
 "nbformat": 4,
 "nbformat_minor": 5
}

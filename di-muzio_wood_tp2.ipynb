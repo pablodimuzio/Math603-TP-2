{
 "cells": [
  {
   "cell_type": "code",
   "execution_count": 1,
   "id": "4e0cccab-b115-4292-8bfa-dd4f49d15622",
   "metadata": {},
   "outputs": [],
   "source": [
    "%display latex"
   ]
  },
  {
   "cell_type": "markdown",
   "id": "f2ca07a3-86a2-4adb-be82-40c7f73d6e8b",
   "metadata": {},
   "source": [
    "# TP 2 Math603"
   ]
  },
  {
   "cell_type": "markdown",
   "id": "f5a9f50c-1cfe-4bea-8e7a-3f772a7e987a",
   "metadata": {},
   "source": [
    "## Exercice 1:"
   ]
  },
  {
   "cell_type": "markdown",
   "id": "c2f96960-8b81-4bd7-9805-92fb71a4d786",
   "metadata": {},
   "source": [
    "1. On souhaite calculer à tout instant $t$ la valeure de $r(t)$.\n",
    "On connait $r(0) \\in \\mathbb R_+$. On peut calculer l'épaisseur de papier $S(t)$ déjà utilisée. On a\n",
    "$$S(t) = \\int_0^t \\varepsilon v(\\tau)d\\tau = \\pi r(0)^2 - \\pi r(t)^2 \\implies r(t) = \\sqrt{r(0)^2 - \\dfrac{\\varepsilon}{\\pi}\\int_0^tv(\\tau)d\\tau}$$"
   ]
  },
  {
   "cell_type": "markdown",
   "id": "a73d9c8d-8f6d-4b24-be7b-225ada8884ca",
   "metadata": {},
   "source": [
    "2. Soit $v_c$ la lecture actuelle de la vitesse du rouleau.\n",
    "On peut déduire de l'égalité précédente une approximation de $r(t)$ par la suite récurrente\n",
    "$$\n",
    "\\begin{array}{lllr}\n",
    "r_0&:=&r(0)&\\\\\n",
    "r_{n+1}&:=& \\sqrt{r_n^2-\\dfrac{\\varepsilon \\Delta t}{\\pi}v_c},&n \\in [\\![0,n-1]\\!]\n",
    "\\end{array}\n",
    "$$\n"
   ]
  },
  {
   "cell_type": "markdown",
   "id": "742ded1a-3c03-4197-9de7-e1debf56ac5e",
   "metadata": {},
   "source": [
    "3. On souhaite savoir quel $\\Delta t$ prendre afin de ne pas surcharger le processeur. En même temps on ne peut pas juste choisir un $\\Delta t$ quelconque car les erreurs d'approximation sont répercutées sur toutes la suite et donc, avoir une trop grande incertitude rendrait l'approximation caduque.\n",
    "\n",
    "On peut dors et déjà économiser de la puissance de calculs en ne stockant que la suite des $(r_n^2)$, en effet cela nous permet de ne pas avoir à calculer la racine carrée à chaque opération et de toute façon notre récurrence remet au carré le terme précédent.\n",
    "$$\n",
    "\\begin{cases}\n",
    "r_0&:=&r(0)&\\\\\n",
    "r_{n+1}^2&:=& {r_n^2-\\dfrac{\\varepsilon \\Delta t}{\\pi}v_c}\n",
    "\\end{cases}\n",
    "$$\n",
    "\n",
    "Encore une fois on peut cache la valeur de notre produit de constantes: $\\rho := -\\dfrac{\\varepsilon \\times \\Delta t}{\\pi}$\n",
    "\n",
    "$$\n",
    "\\begin{cases}\n",
    "r_0&:=&r(0)&\\\\\n",
    "r_{n+1}^2&:=& {r_n^2-\\rho v_c}\n",
    "\\end{cases}\n",
    "$$\n",
    "\n",
    "On en déduit donc que le cout en cycles de création d'un élément de notre suite se décompose comme suit:\n",
    "+ 3 lectures: il faut lire $r_n^2$, $rho$ et $v_c$\n",
    "+ 1 multiplications: $\\rho$ multiplier avec $v_c$\n",
    "+ 1 addition: sommer les deux constantes obtenues\n",
    "+ 1 écriture: sauvegarder la valeur de $r_{n+1}$\n",
    "\n",
    "Soit donc $3\\times2+2\\times4+2=16$ opérations par entre chaque intervalle d'échantillonage.\n",
    "Dans le cas où notre controlleur est ralenti par une quelconque tache et tourne donc à 500 MHz, il aurait pour valeur d'échantillonage minimale $31.25\\cdot 10^{-6}s$.\n",
    "On serait donc à l'aise avec une pulling rate de $30\\cdot 10^{-6}s$ par sécurité.\n"
   ]
  },
  {
   "cell_type": "markdown",
   "id": "19903340-7041-4e1a-abc9-c858f00feb66",
   "metadata": {},
   "source": [
    "## Exercice 2:"
   ]
  },
  {
   "cell_type": "markdown",
   "id": "2a11ae61-eabf-4886-8dc1-43138f87963f",
   "metadata": {},
   "source": [
    "1. On déduit de la question 1.1 que\n",
    "\n",
    "$$\n",
    "\\begin{array}{lll}\n",
    "r(t)& = &\\sqrt{r(0)^2 - \\dfrac{\\varepsilon}{\\pi}\\int_0^tv(\\tau)d\\tau} \\\\\n",
    "\\dfrac{\\partial r}{\\partial t} & = & \\dfrac{\\dfrac{\\varepsilon}{\\pi}v}{2\\sqrt{r(0)^2 - \\dfrac{\\varepsilon}{\\pi}\\int_0^tv(\\tau)d\\tau}} \\\\\n",
    "\\dfrac{\\partial r}{\\partial t} & = & \\dfrac{\\varepsilon v}{2\\pi r}\n",
    "\\end{array}\n",
    "$$"
   ]
  },
  {
   "cell_type": "code",
   "execution_count": null,
   "id": "ecb2e249-6620-43a8-992c-d271f4d40a20",
   "metadata": {},
   "outputs": [],
   "source": []
  }
 ],
 "metadata": {
  "kernelspec": {
   "display_name": "SageMath 10.5",
   "language": "sage",
   "name": "sagemath"
  },
  "language_info": {
   "codemirror_mode": {
    "name": "ipython",
    "version": 3
   },
   "file_extension": ".py",
   "mimetype": "text/x-python",
   "name": "python",
   "nbconvert_exporter": "python",
   "pygments_lexer": "ipython3",
   "version": "3.12.7"
  }
 },
 "nbformat": 4,
 "nbformat_minor": 5
}
